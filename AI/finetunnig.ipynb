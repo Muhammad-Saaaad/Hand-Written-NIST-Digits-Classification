{
 "cells": [
  {
   "cell_type": "code",
   "execution_count": 63,
   "id": "fdf3723f",
   "metadata": {},
   "outputs": [],
   "source": [
    "import os\n",
    "\n",
    "import cv2\n",
    "from matplotlib import pyplot as plt\n",
    "import numpy as np\n",
    "import tensorflow as tf\n",
    "from tensorflow import keras\n",
    "from keras.callbacks import EarlyStopping\n",
    "from sklearn.metrics import classification_report"
   ]
  },
  {
   "cell_type": "code",
   "execution_count": 2,
   "id": "e1da7acb",
   "metadata": {},
   "outputs": [
    {
     "data": {
      "text/plain": [
       "['test_data', 'train_data', 'validation_data']"
      ]
     },
     "execution_count": 2,
     "metadata": {},
     "output_type": "execute_result"
    }
   ],
   "source": [
    "path = os.path.dirname(r'C:\\Users\\HP\\Desktop\\project\\Hand_digits\\datasets\\data_v2\\train_data')\n",
    "sub_folders = os.listdir(path)\n",
    "\n",
    "sub_folders"
   ]
  },
  {
   "cell_type": "code",
   "execution_count": null,
   "id": "b77eba8c",
   "metadata": {},
   "outputs": [],
   "source": [
    "def shuffle(images, labels):\n",
    "    np.random.seed(42)\n",
    "    indices = np.random.permutation(len(images))\n",
    "\n",
    "    # Apply the same permutation to both\n",
    "    images_shuffled = images[indices]\n",
    "    labels_shuffled = labels[indices]\n",
    "    return np.array(images_shuffled), np.array(labels_shuffled)\n",
    "\n",
    "def get_data(path:str) -> list | list:\n",
    "    # folder_set = os.listdir(path+f\"\\\\{sub_folders[0]}\") # test data\n",
    "    folder_set = os.listdir(path)\n",
    "    imgs = []\n",
    "    labels = []\n",
    "\n",
    "    for fs in folder_set: # 0 1 2 3 4 ...\n",
    "\n",
    "        for img_file in os.listdir(path+f\"\\\\{fs}\"):\n",
    "            img_path = path+f\"\\\\{fs}\\\\{img_file}\"\n",
    "            img = cv2.imread(img_path, cv2.IMREAD_GRAYSCALE)\n",
    "            img = cv2.resize(img,(128,128))    # resizing\n",
    "            img = np.expand_dims(img, axis=-1)\n",
    "            img = img.astype(np.float32)/255.0 # Normalization\n",
    "            imgs.append(img)\n",
    "            labels.append(fs)\n",
    "\n",
    "    imgs, labels = shuffle(np.array(imgs), np.array(labels).astype(np.float32))\n",
    "    return imgs, labels"
   ]
  },
  {
   "cell_type": "code",
   "execution_count": 19,
   "id": "0b69315d",
   "metadata": {},
   "outputs": [
    {
     "name": "stdout",
     "output_type": "stream",
     "text": [
      "(4504, 128, 128, 1)\n",
      "(289, 128, 128, 1)\n",
      "(108, 128, 128, 1)\n"
     ]
    }
   ],
   "source": [
    "train_imgs, train_labels = get_data(path+f'\\\\{sub_folders[1]}')\n",
    "test_imgs, test_labels = get_data(path+f'\\\\{sub_folders[0]}')\n",
    "validation_imgs, validation_labels = get_data(path+f'\\\\{sub_folders[2]}')\n",
    "\n",
    "print(train_imgs.shape)\n",
    "print(test_imgs.shape)\n",
    "print(validation_imgs.shape)"
   ]
  },
  {
   "cell_type": "code",
   "execution_count": 20,
   "id": "e9f9ae09",
   "metadata": {},
   "outputs": [
    {
     "data": {
      "text/plain": [
       "array([5., 6., 6., 2., 4., 8., 2., 2., 9., 2., 5., 8., 5., 8., 3., 5., 4.,\n",
       "       8., 0., 5.], dtype=float32)"
      ]
     },
     "execution_count": 20,
     "metadata": {},
     "output_type": "execute_result"
    }
   ],
   "source": [
    "train_labels[:20]"
   ]
  },
  {
   "cell_type": "code",
   "execution_count": 21,
   "id": "bbbfa49d",
   "metadata": {},
   "outputs": [
    {
     "data": {
      "text/plain": [
       "numpy.ndarray"
      ]
     },
     "execution_count": 21,
     "metadata": {},
     "output_type": "execute_result"
    }
   ],
   "source": [
    "type(train_imgs)"
   ]
  },
  {
   "cell_type": "code",
   "execution_count": 71,
   "id": "88797571",
   "metadata": {},
   "outputs": [],
   "source": [
    "datagen = keras.preprocessing.image.ImageDataGenerator(\n",
    "    rotation_range=5,\n",
    "    zoom_range=0.1,\n",
    "    width_shift_range=0.1,\n",
    "    height_shift_range=0.1\n",
    ")\n",
    "\n",
    "def with_augmented(original_imgs: np.array, original_labels: np.array):\n",
    "    argument_imgs = []\n",
    "    argument_labels = []\n",
    "\n",
    "    argumented_data_generator = datagen.flow(original_imgs, original_labels, batch_size=256)\n",
    "    for _ in range(30):\n",
    "        imgs , labels = next(argumented_data_generator)\n",
    "        argument_imgs.append(imgs)\n",
    "        argument_labels.append(labels)\n",
    "\n",
    "    argument_imgs = np.concatenate(argument_imgs, axis=0)\n",
    "    argument_labels = np.concatenate(argument_labels, axis=0)\n",
    "\n",
    "    original_imgs = np.concatenate([original_imgs, argument_imgs], axis=0)\n",
    "    original_labels = np.concatenate([original_labels, argument_labels], axis=0)\n",
    "\n",
    "    combined_imgs, combined_labels = shuffle(original_imgs, original_labels)\n",
    "\n",
    "    return combined_imgs, combined_labels"
   ]
  },
  {
   "cell_type": "code",
   "execution_count": 72,
   "id": "98ea7c8e",
   "metadata": {},
   "outputs": [],
   "source": [
    "train_imgs_with_aug , train_labels_with_aug = with_augmented(train_imgs, train_labels)\n",
    "test_imgs_with_aug , test_labels_with_aug = with_augmented(test_imgs, test_labels)\n",
    "validation_imgs_with_aug , validation_labels_with_aug = with_augmented(validation_imgs, validation_labels)"
   ]
  },
  {
   "cell_type": "code",
   "execution_count": 73,
   "id": "f9d22bca",
   "metadata": {},
   "outputs": [
    {
     "data": {
      "image/png": "[encoded data removed]",
      "text/plain": [
       "<Figure size 640x480 with 1 Axes>"
      ]
     },
     "metadata": {},
     "output_type": "display_data"
    }
   ],
   "source": [
    "# Checking imbalancement\n",
    "numbers, count = np.unique(train_labels_with_aug, return_counts=True)\n",
    "plt.bar(numbers, count, color=[225/255,0,70/255], edgecolor='black')\n",
    "plt.show()"
   ]
  },
  {
   "cell_type": "code",
   "execution_count": 74,
   "id": "3b5a8aac",
   "metadata": {},
   "outputs": [
    {
     "data": {
      "text/plain": [
       "array([[[0.25490198],\n",
       "        [0.21568628],\n",
       "        [0.15294118],\n",
       "        ...,\n",
       "        [0.4862745 ],\n",
       "        [0.48235294],\n",
       "        [0.47843137]],\n",
       "\n",
       "       [[0.25490198],\n",
       "        [0.21568628],\n",
       "        [0.14901961],\n",
       "        ...,\n",
       "        [0.45882353],\n",
       "        [0.45882353],\n",
       "        [0.45490196]],\n",
       "\n",
       "       [[0.2509804 ],\n",
       "        [0.21176471],\n",
       "        [0.14509805],\n",
       "        ...,\n",
       "        [0.4117647 ],\n",
       "        [0.41568628],\n",
       "        [0.41568628]],\n",
       "\n",
       "       ...,\n",
       "\n",
       "       [[0.25882354],\n",
       "        [0.23137255],\n",
       "        [0.18431373],\n",
       "        ...,\n",
       "        [0.4       ],\n",
       "        [0.39607844],\n",
       "        [0.39215687]],\n",
       "\n",
       "       [[0.2627451 ],\n",
       "        [0.23137255],\n",
       "        [0.1882353 ],\n",
       "        ...,\n",
       "        [0.45882353],\n",
       "        [0.45490196],\n",
       "        [0.4509804 ]],\n",
       "\n",
       "       [[0.2627451 ],\n",
       "        [0.23529412],\n",
       "        [0.1882353 ],\n",
       "        ...,\n",
       "        [0.49019608],\n",
       "        [0.4862745 ],\n",
       "        [0.4862745 ]]], dtype=float32)"
      ]
     },
     "execution_count": 74,
     "metadata": {},
     "output_type": "execute_result"
    }
   ],
   "source": [
    "train_imgs[0]"
   ]
  },
  {
   "cell_type": "markdown",
   "id": "d3aa8cef",
   "metadata": {},
   "source": [
    "## Loading Model"
   ]
  },
  {
   "cell_type": "code",
   "execution_count": 75,
   "id": "44f91924",
   "metadata": {},
   "outputs": [
    {
     "data": {
      "text/html": [
       "<pre style=\"white-space:pre;overflow-x:auto;line-height:normal;font-family:Menlo,'DejaVu Sans Mono',consolas,'Courier New',monospace\"><span style=\"font-weight: bold\">Model: \"sequential\"</span>\n",
       "</pre>\n"
      ],
      "text/plain": [
       "\u001b[1mModel: \"sequential\"\u001b[0m\n"
      ]
     },
     "metadata": {},
     "output_type": "display_data"
    },
    {
     "data": {
      "text/html": [
       "<pre style=\"white-space:pre;overflow-x:auto;line-height:normal;font-family:Menlo,'DejaVu Sans Mono',consolas,'Courier New',monospace\">┏━━━━━━━━━━━━━━━━━━━━━━━━━━━━━━━━━┳━━━━━━━━━━━━━━━━━━━━━━━━┳━━━━━━━━━━━━━━━┓\n",
       "┃<span style=\"font-weight: bold\"> Layer (type)                    </span>┃<span style=\"font-weight: bold\"> Output Shape           </span>┃<span style=\"font-weight: bold\">       Param # </span>┃\n",
       "┡━━━━━━━━━━━━━━━━━━━━━━━━━━━━━━━━━╇━━━━━━━━━━━━━━━━━━━━━━━━╇━━━━━━━━━━━━━━━┩\n",
       "│ conv2d (<span style=\"color: #0087ff; text-decoration-color: #0087ff\">Conv2D</span>)                 │ (<span style=\"color: #00d7ff; text-decoration-color: #00d7ff\">None</span>, <span style=\"color: #00af00; text-decoration-color: #00af00\">128</span>, <span style=\"color: #00af00; text-decoration-color: #00af00\">128</span>, <span style=\"color: #00af00; text-decoration-color: #00af00\">32</span>)   │           <span style=\"color: #00af00; text-decoration-color: #00af00\">320</span> │\n",
       "├─────────────────────────────────┼────────────────────────┼───────────────┤\n",
       "│ max_pooling2d (<span style=\"color: #0087ff; text-decoration-color: #0087ff\">MaxPooling2D</span>)    │ (<span style=\"color: #00d7ff; text-decoration-color: #00d7ff\">None</span>, <span style=\"color: #00af00; text-decoration-color: #00af00\">64</span>, <span style=\"color: #00af00; text-decoration-color: #00af00\">64</span>, <span style=\"color: #00af00; text-decoration-color: #00af00\">32</span>)     │             <span style=\"color: #00af00; text-decoration-color: #00af00\">0</span> │\n",
       "├─────────────────────────────────┼────────────────────────┼───────────────┤\n",
       "│ conv2d_1 (<span style=\"color: #0087ff; text-decoration-color: #0087ff\">Conv2D</span>)               │ (<span style=\"color: #00d7ff; text-decoration-color: #00d7ff\">None</span>, <span style=\"color: #00af00; text-decoration-color: #00af00\">62</span>, <span style=\"color: #00af00; text-decoration-color: #00af00\">62</span>, <span style=\"color: #00af00; text-decoration-color: #00af00\">64</span>)     │        <span style=\"color: #00af00; text-decoration-color: #00af00\">18,496</span> │\n",
       "├─────────────────────────────────┼────────────────────────┼───────────────┤\n",
       "│ max_pooling2d_1 (<span style=\"color: #0087ff; text-decoration-color: #0087ff\">MaxPooling2D</span>)  │ (<span style=\"color: #00d7ff; text-decoration-color: #00d7ff\">None</span>, <span style=\"color: #00af00; text-decoration-color: #00af00\">31</span>, <span style=\"color: #00af00; text-decoration-color: #00af00\">31</span>, <span style=\"color: #00af00; text-decoration-color: #00af00\">64</span>)     │             <span style=\"color: #00af00; text-decoration-color: #00af00\">0</span> │\n",
       "├─────────────────────────────────┼────────────────────────┼───────────────┤\n",
       "│ conv2d_2 (<span style=\"color: #0087ff; text-decoration-color: #0087ff\">Conv2D</span>)               │ (<span style=\"color: #00d7ff; text-decoration-color: #00d7ff\">None</span>, <span style=\"color: #00af00; text-decoration-color: #00af00\">29</span>, <span style=\"color: #00af00; text-decoration-color: #00af00\">29</span>, <span style=\"color: #00af00; text-decoration-color: #00af00\">128</span>)    │        <span style=\"color: #00af00; text-decoration-color: #00af00\">73,856</span> │\n",
       "├─────────────────────────────────┼────────────────────────┼───────────────┤\n",
       "│ max_pooling2d_2 (<span style=\"color: #0087ff; text-decoration-color: #0087ff\">MaxPooling2D</span>)  │ (<span style=\"color: #00d7ff; text-decoration-color: #00d7ff\">None</span>, <span style=\"color: #00af00; text-decoration-color: #00af00\">14</span>, <span style=\"color: #00af00; text-decoration-color: #00af00\">14</span>, <span style=\"color: #00af00; text-decoration-color: #00af00\">128</span>)    │             <span style=\"color: #00af00; text-decoration-color: #00af00\">0</span> │\n",
       "├─────────────────────────────────┼────────────────────────┼───────────────┤\n",
       "│ flatten (<span style=\"color: #0087ff; text-decoration-color: #0087ff\">Flatten</span>)               │ (<span style=\"color: #00d7ff; text-decoration-color: #00d7ff\">None</span>, <span style=\"color: #00af00; text-decoration-color: #00af00\">25088</span>)          │             <span style=\"color: #00af00; text-decoration-color: #00af00\">0</span> │\n",
       "├─────────────────────────────────┼────────────────────────┼───────────────┤\n",
       "│ dense (<span style=\"color: #0087ff; text-decoration-color: #0087ff\">Dense</span>)                   │ (<span style=\"color: #00d7ff; text-decoration-color: #00d7ff\">None</span>, <span style=\"color: #00af00; text-decoration-color: #00af00\">128</span>)            │     <span style=\"color: #00af00; text-decoration-color: #00af00\">3,211,392</span> │\n",
       "├─────────────────────────────────┼────────────────────────┼───────────────┤\n",
       "│ dense_1 (<span style=\"color: #0087ff; text-decoration-color: #0087ff\">Dense</span>)                 │ (<span style=\"color: #00d7ff; text-decoration-color: #00d7ff\">None</span>, <span style=\"color: #00af00; text-decoration-color: #00af00\">10</span>)             │         <span style=\"color: #00af00; text-decoration-color: #00af00\">1,290</span> │\n",
       "└─────────────────────────────────┴────────────────────────┴───────────────┘\n",
       "</pre>\n"
      ],
      "text/plain": [
       "┏━━━━━━━━━━━━━━━━━━━━━━━━━━━━━━━━━┳━━━━━━━━━━━━━━━━━━━━━━━━┳━━━━━━━━━━━━━━━┓\n",
       "┃\u001b[1m \u001b[0m\u001b[1mLayer (type)                   \u001b[0m\u001b[1m \u001b[0m┃\u001b[1m \u001b[0m\u001b[1mOutput Shape          \u001b[0m\u001b[1m \u001b[0m┃\u001b[1m \u001b[0m\u001b[1m      Param #\u001b[0m\u001b[1m \u001b[0m┃\n",
       "┡━━━━━━━━━━━━━━━━━━━━━━━━━━━━━━━━━╇━━━━━━━━━━━━━━━━━━━━━━━━╇━━━━━━━━━━━━━━━┩\n",
       "│ conv2d (\u001b[38;5;33mConv2D\u001b[0m)                 │ (\u001b[38;5;45mNone\u001b[0m, \u001b[38;5;34m128\u001b[0m, \u001b[38;5;34m128\u001b[0m, \u001b[38;5;34m32\u001b[0m)   │           \u001b[38;5;34m320\u001b[0m │\n",
       "├─────────────────────────────────┼────────────────────────┼───────────────┤\n",
       "│ max_pooling2d (\u001b[38;5;33mMaxPooling2D\u001b[0m)    │ (\u001b[38;5;45mNone\u001b[0m, \u001b[38;5;34m64\u001b[0m, \u001b[38;5;34m64\u001b[0m, \u001b[38;5;34m32\u001b[0m)     │             \u001b[38;5;34m0\u001b[0m │\n",
       "├─────────────────────────────────┼────────────────────────┼───────────────┤\n",
       "│ conv2d_1 (\u001b[38;5;33mConv2D\u001b[0m)               │ (\u001b[38;5;45mNone\u001b[0m, \u001b[38;5;34m62\u001b[0m, \u001b[38;5;34m62\u001b[0m, \u001b[38;5;34m64\u001b[0m)     │        \u001b[38;5;34m18,496\u001b[0m │\n",
       "├─────────────────────────────────┼────────────────────────┼───────────────┤\n",
       "│ max_pooling2d_1 (\u001b[38;5;33mMaxPooling2D\u001b[0m)  │ (\u001b[38;5;45mNone\u001b[0m, \u001b[38;5;34m31\u001b[0m, \u001b[38;5;34m31\u001b[0m, \u001b[38;5;34m64\u001b[0m)     │             \u001b[38;5;34m0\u001b[0m │\n",
       "├─────────────────────────────────┼────────────────────────┼───────────────┤\n",
       "│ conv2d_2 (\u001b[38;5;33mConv2D\u001b[0m)               │ (\u001b[38;5;45mNone\u001b[0m, \u001b[38;5;34m29\u001b[0m, \u001b[38;5;34m29\u001b[0m, \u001b[38;5;34m128\u001b[0m)    │        \u001b[38;5;34m73,856\u001b[0m │\n",
       "├─────────────────────────────────┼────────────────────────┼───────────────┤\n",
       "│ max_pooling2d_2 (\u001b[38;5;33mMaxPooling2D\u001b[0m)  │ (\u001b[38;5;45mNone\u001b[0m, \u001b[38;5;34m14\u001b[0m, \u001b[38;5;34m14\u001b[0m, \u001b[38;5;34m128\u001b[0m)    │             \u001b[38;5;34m0\u001b[0m │\n",
       "├─────────────────────────────────┼────────────────────────┼───────────────┤\n",
       "│ flatten (\u001b[38;5;33mFlatten\u001b[0m)               │ (\u001b[38;5;45mNone\u001b[0m, \u001b[38;5;34m25088\u001b[0m)          │             \u001b[38;5;34m0\u001b[0m │\n",
       "├─────────────────────────────────┼────────────────────────┼───────────────┤\n",
       "│ dense (\u001b[38;5;33mDense\u001b[0m)                   │ (\u001b[38;5;45mNone\u001b[0m, \u001b[38;5;34m128\u001b[0m)            │     \u001b[38;5;34m3,211,392\u001b[0m │\n",
       "├─────────────────────────────────┼────────────────────────┼───────────────┤\n",
       "│ dense_1 (\u001b[38;5;33mDense\u001b[0m)                 │ (\u001b[38;5;45mNone\u001b[0m, \u001b[38;5;34m10\u001b[0m)             │         \u001b[38;5;34m1,290\u001b[0m │\n",
       "└─────────────────────────────────┴────────────────────────┴───────────────┘\n"
      ]
     },
     "metadata": {},
     "output_type": "display_data"
    },
    {
     "data": {
      "text/html": [
       "<pre style=\"white-space:pre;overflow-x:auto;line-height:normal;font-family:Menlo,'DejaVu Sans Mono',consolas,'Courier New',monospace\"><span style=\"font-weight: bold\"> Total params: </span><span style=\"color: #00af00; text-decoration-color: #00af00\">9,916,064</span> (37.83 MB)\n",
       "</pre>\n"
      ],
      "text/plain": [
       "\u001b[1m Total params: \u001b[0m\u001b[38;5;34m9,916,064\u001b[0m (37.83 MB)\n"
      ]
     },
     "metadata": {},
     "output_type": "display_data"
    },
    {
     "data": {
      "text/html": [
       "<pre style=\"white-space:pre;overflow-x:auto;line-height:normal;font-family:Menlo,'DejaVu Sans Mono',consolas,'Courier New',monospace\"><span style=\"font-weight: bold\"> Trainable params: </span><span style=\"color: #00af00; text-decoration-color: #00af00\">3,305,354</span> (12.61 MB)\n",
       "</pre>\n"
      ],
      "text/plain": [
       "\u001b[1m Trainable params: \u001b[0m\u001b[38;5;34m3,305,354\u001b[0m (12.61 MB)\n"
      ]
     },
     "metadata": {},
     "output_type": "display_data"
    },
    {
     "data": {
      "text/html": [
       "<pre style=\"white-space:pre;overflow-x:auto;line-height:normal;font-family:Menlo,'DejaVu Sans Mono',consolas,'Courier New',monospace\"><span style=\"font-weight: bold\"> Non-trainable params: </span><span style=\"color: #00af00; text-decoration-color: #00af00\">0</span> (0.00 B)\n",
       "</pre>\n"
      ],
      "text/plain": [
       "\u001b[1m Non-trainable params: \u001b[0m\u001b[38;5;34m0\u001b[0m (0.00 B)\n"
      ]
     },
     "metadata": {},
     "output_type": "display_data"
    },
    {
     "data": {
      "text/html": [
       "<pre style=\"white-space:pre;overflow-x:auto;line-height:normal;font-family:Menlo,'DejaVu Sans Mono',consolas,'Courier New',monospace\"><span style=\"font-weight: bold\"> Optimizer params: </span><span style=\"color: #00af00; text-decoration-color: #00af00\">6,610,710</span> (25.22 MB)\n",
       "</pre>\n"
      ],
      "text/plain": [
       "\u001b[1m Optimizer params: \u001b[0m\u001b[38;5;34m6,610,710\u001b[0m (25.22 MB)\n"
      ]
     },
     "metadata": {},
     "output_type": "display_data"
    }
   ],
   "source": [
    "model = keras.models.load_model(r'../Models/digits_classifier.keras')\n",
    "model.summary()"
   ]
  },
  {
   "cell_type": "code",
   "execution_count": 76,
   "id": "e491fb4b",
   "metadata": {},
   "outputs": [],
   "source": [
    "for layers in model.layers[:-3]: # freeze all the layers except the last 3\n",
    "    layers.trainable = False"
   ]
  },
  {
   "cell_type": "code",
   "execution_count": 77,
   "id": "82c5a120",
   "metadata": {},
   "outputs": [
    {
     "name": "stdout",
     "output_type": "stream",
     "text": [
      "Epoch 1/25\n",
      "\u001b[1m378/378\u001b[0m \u001b[32m━━━━━━━━━━━━━━━━━━━━\u001b[0m\u001b[37m\u001b[0m \u001b[1m42s\u001b[0m 109ms/step - accuracy: 0.2143 - loss: 2.3529 - val_accuracy: 0.2832 - val_loss: 2.1257\n",
      "Epoch 2/25\n",
      "\u001b[1m378/378\u001b[0m \u001b[32m━━━━━━━━━━━━━━━━━━━━\u001b[0m\u001b[37m\u001b[0m \u001b[1m42s\u001b[0m 110ms/step - accuracy: 0.3615 - loss: 1.9493 - val_accuracy: 0.3426 - val_loss: 1.9699\n",
      "Epoch 3/25\n",
      "\u001b[1m378/378\u001b[0m \u001b[32m━━━━━━━━━━━━━━━━━━━━\u001b[0m\u001b[37m\u001b[0m \u001b[1m41s\u001b[0m 107ms/step - accuracy: 0.4275 - loss: 1.8166 - val_accuracy: 0.3993 - val_loss: 1.8926\n",
      "Epoch 4/25\n",
      "\u001b[1m378/378\u001b[0m \u001b[32m━━━━━━━━━━━━━━━━━━━━\u001b[0m\u001b[37m\u001b[0m \u001b[1m42s\u001b[0m 110ms/step - accuracy: 0.4643 - loss: 1.7678 - val_accuracy: 0.4421 - val_loss: 1.8287\n",
      "Epoch 5/25\n",
      "\u001b[1m378/378\u001b[0m \u001b[32m━━━━━━━━━━━━━━━━━━━━\u001b[0m\u001b[37m\u001b[0m \u001b[1m42s\u001b[0m 111ms/step - accuracy: 0.5017 - loss: 1.7307 - val_accuracy: 0.4585 - val_loss: 1.8192\n",
      "Epoch 6/25\n",
      "\u001b[1m378/378\u001b[0m \u001b[32m━━━━━━━━━━━━━━━━━━━━\u001b[0m\u001b[37m\u001b[0m \u001b[1m41s\u001b[0m 109ms/step - accuracy: 0.5114 - loss: 1.7117 - val_accuracy: 0.4576 - val_loss: 1.8221\n",
      "Epoch 7/25\n",
      "\u001b[1m378/378\u001b[0m \u001b[32m━━━━━━━━━━━━━━━━━━━━\u001b[0m\u001b[37m\u001b[0m \u001b[1m43s\u001b[0m 113ms/step - accuracy: 0.5163 - loss: 1.6900 - val_accuracy: 0.4597 - val_loss: 1.7854\n",
      "Epoch 8/25\n",
      "\u001b[1m378/378\u001b[0m \u001b[32m━━━━━━━━━━━━━━━━━━━━\u001b[0m\u001b[37m\u001b[0m \u001b[1m41s\u001b[0m 108ms/step - accuracy: 0.5267 - loss: 1.6849 - val_accuracy: 0.4734 - val_loss: 1.7862\n",
      "Epoch 9/25\n",
      "\u001b[1m378/378\u001b[0m \u001b[32m━━━━━━━━━━━━━━━━━━━━\u001b[0m\u001b[37m\u001b[0m \u001b[1m47s\u001b[0m 124ms/step - accuracy: 0.5295 - loss: 1.6683 - val_accuracy: 0.4716 - val_loss: 1.7728\n",
      "Epoch 10/25\n",
      "\u001b[1m378/378\u001b[0m \u001b[32m━━━━━━━━━━━━━━━━━━━━\u001b[0m\u001b[37m\u001b[0m \u001b[1m43s\u001b[0m 113ms/step - accuracy: 0.5320 - loss: 1.6541 - val_accuracy: 0.4770 - val_loss: 1.7617\n",
      "Epoch 11/25\n",
      "\u001b[1m378/378\u001b[0m \u001b[32m━━━━━━━━━━━━━━━━━━━━\u001b[0m\u001b[37m\u001b[0m \u001b[1m42s\u001b[0m 112ms/step - accuracy: 0.5483 - loss: 1.6319 - val_accuracy: 0.4695 - val_loss: 1.7634\n",
      "Epoch 12/25\n",
      "\u001b[1m378/378\u001b[0m \u001b[32m━━━━━━━━━━━━━━━━━━━━\u001b[0m\u001b[37m\u001b[0m \u001b[1m42s\u001b[0m 111ms/step - accuracy: 0.5443 - loss: 1.6217 - val_accuracy: 0.4842 - val_loss: 1.7360\n",
      "Epoch 13/25\n",
      "\u001b[1m378/378\u001b[0m \u001b[32m━━━━━━━━━━━━━━━━━━━━\u001b[0m\u001b[37m\u001b[0m \u001b[1m42s\u001b[0m 111ms/step - accuracy: 0.5564 - loss: 1.6047 - val_accuracy: 0.4901 - val_loss: 1.7302\n",
      "Epoch 14/25\n",
      "\u001b[1m378/378\u001b[0m \u001b[32m━━━━━━━━━━━━━━━━━━━━\u001b[0m\u001b[37m\u001b[0m \u001b[1m41s\u001b[0m 109ms/step - accuracy: 0.5554 - loss: 1.6127 - val_accuracy: 0.5009 - val_loss: 1.7104\n",
      "Epoch 15/25\n",
      "\u001b[1m378/378\u001b[0m \u001b[32m━━━━━━━━━━━━━━━━━━━━\u001b[0m\u001b[37m\u001b[0m \u001b[1m42s\u001b[0m 110ms/step - accuracy: 0.5640 - loss: 1.5874 - val_accuracy: 0.4976 - val_loss: 1.7308\n",
      "Epoch 16/25\n",
      "\u001b[1m378/378\u001b[0m \u001b[32m━━━━━━━━━━━━━━━━━━━━\u001b[0m\u001b[37m\u001b[0m \u001b[1m44s\u001b[0m 116ms/step - accuracy: 0.5628 - loss: 1.5815 - val_accuracy: 0.4946 - val_loss: 1.7111\n",
      "Epoch 17/25\n",
      "\u001b[1m378/378\u001b[0m \u001b[32m━━━━━━━━━━━━━━━━━━━━\u001b[0m\u001b[37m\u001b[0m \u001b[1m42s\u001b[0m 111ms/step - accuracy: 0.5747 - loss: 1.5659 - val_accuracy: 0.4973 - val_loss: 1.7054\n",
      "Epoch 18/25\n",
      "\u001b[1m378/378\u001b[0m \u001b[32m━━━━━━━━━━━━━━━━━━━━\u001b[0m\u001b[37m\u001b[0m \u001b[1m42s\u001b[0m 110ms/step - accuracy: 0.5780 - loss: 1.5517 - val_accuracy: 0.5090 - val_loss: 1.6992\n",
      "Epoch 19/25\n",
      "\u001b[1m378/378\u001b[0m \u001b[32m━━━━━━━━━━━━━━━━━━━━\u001b[0m\u001b[37m\u001b[0m \u001b[1m43s\u001b[0m 113ms/step - accuracy: 0.5799 - loss: 1.5487 - val_accuracy: 0.5000 - val_loss: 1.7059\n",
      "Epoch 20/25\n",
      "\u001b[1m378/378\u001b[0m \u001b[32m━━━━━━━━━━━━━━━━━━━━\u001b[0m\u001b[37m\u001b[0m \u001b[1m42s\u001b[0m 110ms/step - accuracy: 0.5787 - loss: 1.5493 - val_accuracy: 0.4985 - val_loss: 1.7045\n",
      "Epoch 21/25\n",
      "\u001b[1m378/378\u001b[0m \u001b[32m━━━━━━━━━━━━━━━━━━━━\u001b[0m\u001b[37m\u001b[0m \u001b[1m42s\u001b[0m 111ms/step - accuracy: 0.5895 - loss: 1.5280 - val_accuracy: 0.5009 - val_loss: 1.7013\n",
      "Epoch 22/25\n",
      "\u001b[1m378/378\u001b[0m \u001b[32m━━━━━━━━━━━━━━━━━━━━\u001b[0m\u001b[37m\u001b[0m \u001b[1m48s\u001b[0m 126ms/step - accuracy: 0.5911 - loss: 1.5059 - val_accuracy: 0.5176 - val_loss: 1.6705\n",
      "Epoch 23/25\n",
      "\u001b[1m378/378\u001b[0m \u001b[32m━━━━━━━━━━━━━━━━━━━━\u001b[0m\u001b[37m\u001b[0m \u001b[1m57s\u001b[0m 150ms/step - accuracy: 0.5955 - loss: 1.5087 - val_accuracy: 0.5036 - val_loss: 1.6767\n",
      "Epoch 24/25\n",
      "\u001b[1m378/378\u001b[0m \u001b[32m━━━━━━━━━━━━━━━━━━━━\u001b[0m\u001b[37m\u001b[0m \u001b[1m90s\u001b[0m 171ms/step - accuracy: 0.5946 - loss: 1.5058 - val_accuracy: 0.5081 - val_loss: 1.6755\n",
      "Epoch 25/25\n",
      "\u001b[1m378/378\u001b[0m \u001b[32m━━━━━━━━━━━━━━━━━━━━\u001b[0m\u001b[37m\u001b[0m \u001b[1m53s\u001b[0m 139ms/step - accuracy: 0.5898 - loss: 1.4969 - val_accuracy: 0.5164 - val_loss: 1.6653\n"
     ]
    },
    {
     "data": {
      "text/plain": [
       "<keras.src.callbacks.history.History at 0x25b879b05b0>"
      ]
     },
     "execution_count": 77,
     "metadata": {},
     "output_type": "execute_result"
    }
   ],
   "source": [
    "model.compile(optimizer=keras.optimizers.Adam(learning_rate=3e-4),\n",
    "              loss='sparse_categorical_crossentropy',\n",
    "              metrics=['accuracy'])\n",
    "\n",
    "early_stopping = EarlyStopping(monitor='val_loss', patience=5, restore_best_weights=True)\n",
    "\n",
    "model.fit(train_imgs_with_aug, train_labels_with_aug, epochs=25,\n",
    "          validation_data=(validation_imgs_with_aug, validation_labels_with_aug), callbacks=[early_stopping])"
   ]
  },
  {
   "cell_type": "code",
   "execution_count": 78,
   "id": "f8bcd8d3",
   "metadata": {},
   "outputs": [
    {
     "name": "stdout",
     "output_type": "stream",
     "text": [
      "\u001b[1m10/10\u001b[0m \u001b[32m━━━━━━━━━━━━━━━━━━━━\u001b[0m\u001b[37m\u001b[0m \u001b[1m1s\u001b[0m 91ms/step - accuracy: 0.5750 - loss: 1.5537\n"
     ]
    },
    {
     "data": {
      "text/plain": [
       "[1.5849226713180542, 0.5432525873184204]"
      ]
     },
     "execution_count": 78,
     "metadata": {},
     "output_type": "execute_result"
    }
   ],
   "source": [
    "model.evaluate(test_imgs, test_labels)"
   ]
  },
  {
   "cell_type": "code",
   "execution_count": 79,
   "id": "ae991f70",
   "metadata": {},
   "outputs": [
    {
     "data": {
      "image/png": "[encoded data removed]",
      "text/plain": [
       "<Figure size 1000x1000 with 12 Axes>"
      ]
     },
     "metadata": {},
     "output_type": "display_data"
    }
   ],
   "source": [
    "from glob import glob\n",
    "\n",
    "pp_imgs = glob(r'..\\PreProcessedImages\\*.jpg')\n",
    "\n",
    "imgs = []\n",
    "for img in pp_imgs:\n",
    "    img =cv2.imread(img, cv2.IMREAD_GRAYSCALE)\n",
    "    # Binarize and invert (threshold + inversion)\n",
    "    # _, img = cv2.threshold(img, 128, 255, cv2.THRESH_BINARY_INV)\n",
    "    img = np.invert(img)\n",
    "    img = cv2.resize(img, (128,128))\n",
    "    img = img.astype(np.float32)/255.0\n",
    "    img = np.expand_dims(img, axis=-1)\n",
    "    imgs.append(img)\n",
    "\n",
    "\n",
    "imgs = np.array(imgs)\n",
    "fig, axes = plt.subplots(1,len(imgs), figsize=(10,10))\n",
    "for i in range(len(imgs)):\n",
    "    axes[i].imshow(imgs[i], cmap='gray')\n",
    "    axes[i].axis('off')"
   ]
  },
  {
   "cell_type": "code",
   "execution_count": 80,
   "id": "6be097a4",
   "metadata": {},
   "outputs": [
    {
     "name": "stdout",
     "output_type": "stream",
     "text": [
      "\u001b[1m1/1\u001b[0m \u001b[32m━━━━━━━━━━━━━━━━━━━━\u001b[0m\u001b[37m\u001b[0m \u001b[1m0s\u001b[0m 211ms/step\n"
     ]
    },
    {
     "data": {
      "text/plain": [
       "[3, 3, 3, 3, 3, 3, 0, 8, 8, 8, 8, 6]"
      ]
     },
     "execution_count": 80,
     "metadata": {},
     "output_type": "execute_result"
    }
   ],
   "source": [
    "[int(i.argmax()) for i in model.predict(imgs)]"
   ]
  },
  {
   "cell_type": "code",
   "execution_count": 81,
   "id": "eb2d6e73",
   "metadata": {},
   "outputs": [],
   "source": [
    "model.save(filepath=r'C:\\Users\\HP\\Desktop\\project\\Hand_digits\\Models\\fine_tunned_classifier.keras')"
   ]
  }
 ],
 "metadata": {
  "kernelspec": {
   "display_name": "env",
   "language": "python",
   "name": "python3"
  },
  "language_info": {
   "codemirror_mode": {
    "name": "ipython",
    "version": 3
   },
   "file_extension": ".py",
   "mimetype": "text/x-python",
   "name": "python",
   "nbconvert_exporter": "python",
   "pygments_lexer": "ipython3",
   "version": "3.10.4"
  }
 },
 "nbformat": 4,
 "nbformat_minor": 5
}
