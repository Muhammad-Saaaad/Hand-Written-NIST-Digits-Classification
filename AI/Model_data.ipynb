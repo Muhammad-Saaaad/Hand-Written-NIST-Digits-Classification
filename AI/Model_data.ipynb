{
 "cells": [
  {
   "cell_type": "code",
   "execution_count": 3,
   "id": "5452fbcb",
   "metadata": {},
   "outputs": [],
   "source": [
    "import os\n",
    "\n",
    "import cv2\n",
    "from matplotlib import pyplot as plt\n",
    "import numpy as np\n",
    "from sklearn.model_selection import train_test_split\n",
    "from sklearn.metrics import classification_report\n",
    "from tensorflow import keras\n",
    "from tensorflow.keras.layers import Dense, Conv2D, MaxPooling2D, Flatten"
   ]
  },
  {
   "cell_type": "code",
   "execution_count": 2,
   "id": "0a9159e8",
   "metadata": {},
   "outputs": [],
   "source": [
    "paths = [r'D:\\by_class\\30\\train_30',\n",
    "         r\"D:\\by_class\\31\\train_31\",\n",
    "         r\"D:\\by_class\\32\\train_32\",\n",
    "         r\"D:\\by_class\\33\\train_33\",\n",
    "         r\"D:\\by_class\\34\\train_34\",\n",
    "         r\"D:\\by_class\\35\\train_35\",\n",
    "         r\"D:\\by_class\\36\\train_36\",\n",
    "         r\"D:\\by_class\\37\\train_37\",\n",
    "         r\"D:\\by_class\\38\\train_38\",\n",
    "         r\"D:\\by_class\\39\\train_39\"]"
   ]
  },
  {
   "cell_type": "code",
   "execution_count": 3,
   "id": "f028c871",
   "metadata": {},
   "outputs": [],
   "source": [
    "images = []\n",
    "labels = []\n",
    "\n",
    "for path in paths:\n",
    "    for imgs in os.listdir(path):\n",
    "        images.append(cv2.imread(path+f\"\\\\{imgs}\", cv2.IMREAD_GRAYSCALE))\n",
    "        labels.append(float(path[-1]))\n",
    "\n",
    "images = np.array(images)\n",
    "labels = np.array(labels)"
   ]
  },
  {
   "cell_type": "code",
   "execution_count": 4,
   "id": "f71c4161",
   "metadata": {},
   "outputs": [
    {
     "name": "stdout",
     "output_type": "stream",
     "text": [
      "(344307, 128, 128)\n",
      "(344307,)\n"
     ]
    }
   ],
   "source": [
    "print(images.shape)\n",
    "print(labels.shape)"
   ]
  },
  {
   "cell_type": "code",
   "execution_count": 5,
   "id": "3987215c",
   "metadata": {},
   "outputs": [],
   "source": [
    "# Shuffling\n",
    "np.random.seed(42)\n",
    "idx = np.random.permutation(len(labels))\n",
    "images = images[idx]\n",
    "labels = labels[idx]"
   ]
  },
  {
   "cell_type": "code",
   "execution_count": 6,
   "id": "181ebd0e",
   "metadata": {},
   "outputs": [
    {
     "data": {
      "text/plain": [
       "(128, 128)"
      ]
     },
     "execution_count": 6,
     "metadata": {},
     "output_type": "execute_result"
    }
   ],
   "source": [
    "images[200].shape"
   ]
  },
  {
   "cell_type": "code",
   "execution_count": 7,
   "id": "b05440b3",
   "metadata": {},
   "outputs": [],
   "source": [
    "# Getting half the data\n",
    "images = images[:len(images)//2]\n",
    "labels = labels[:len(labels)//2]"
   ]
  },
  {
   "cell_type": "code",
   "execution_count": 8,
   "id": "7936718c",
   "metadata": {},
   "outputs": [],
   "source": [
    "wigth, height = np.unique(labels, return_counts=True)"
   ]
  },
  {
   "cell_type": "code",
   "execution_count": 9,
   "id": "c47cea9a",
   "metadata": {},
   "outputs": [
    {
     "data": {
      "image/png": "[encoded data removed]",
      "text/plain": [
       "<Figure size 640x480 with 1 Axes>"
      ]
     },
     "metadata": {},
     "output_type": "display_data"
    }
   ],
   "source": [
    "plt.bar(wigth,height, edgecolor='black', color='yellow')\n",
    "plt.show()"
   ]
  },
  {
   "cell_type": "code",
   "execution_count": 10,
   "id": "7fc4e498",
   "metadata": {},
   "outputs": [
    {
     "data": {
      "text/plain": [
       "(np.float64(-0.5), np.float64(127.5), np.float64(127.5), np.float64(-0.5))"
      ]
     },
     "execution_count": 10,
     "metadata": {},
     "output_type": "execute_result"
    },
    {
     "data": {
      "image/png": "[encoded data removed]",
      "text/plain": [
       "<Figure size 640x480 with 1 Axes>"
      ]
     },
     "metadata": {},
     "output_type": "display_data"
    }
   ],
   "source": [
    "plt.imshow(images[101112])\n",
    "plt.title(labels[101112])\n",
    "plt.axis('off')"
   ]
  },
  {
   "cell_type": "markdown",
   "id": "d725c366",
   "metadata": {},
   "source": [
    "## Model Training"
   ]
  },
  {
   "cell_type": "code",
   "execution_count": 11,
   "id": "d1fc81fd",
   "metadata": {},
   "outputs": [
    {
     "data": {
      "text/plain": [
       "(172153, 128, 128, 1)"
      ]
     },
     "execution_count": 11,
     "metadata": {},
     "output_type": "execute_result"
    }
   ],
   "source": [
    "images = np.expand_dims(images, axis=-1)\n",
    "images.shape"
   ]
  },
  {
   "cell_type": "code",
   "execution_count": 12,
   "id": "d9a08090",
   "metadata": {},
   "outputs": [
    {
     "data": {
      "text/plain": [
       "(172153,)"
      ]
     },
     "execution_count": 12,
     "metadata": {},
     "output_type": "execute_result"
    }
   ],
   "source": [
    "labels.shape"
   ]
  },
  {
   "cell_type": "code",
   "execution_count": 13,
   "id": "3f287fda",
   "metadata": {},
   "outputs": [],
   "source": [
    "# normalization and train test split\n",
    "X_train, X_test, y_train, y_test  = train_test_split(images.astype(np.float32)/255, labels.astype(np.float32), \n",
    "                                                     test_size=0.01, shuffle=True, stratify=labels, random_state=42)"
   ]
  },
  {
   "cell_type": "code",
   "execution_count": 14,
   "id": "1859001a",
   "metadata": {},
   "outputs": [
    {
     "data": {
      "text/plain": [
       "(170431, 128, 128, 1)"
      ]
     },
     "execution_count": 14,
     "metadata": {},
     "output_type": "execute_result"
    }
   ],
   "source": [
    "X_train.shape"
   ]
  },
  {
   "cell_type": "code",
   "execution_count": 15,
   "id": "f721d2cd",
   "metadata": {},
   "outputs": [
    {
     "data": {
      "text/plain": [
       "(170431,)"
      ]
     },
     "execution_count": 15,
     "metadata": {},
     "output_type": "execute_result"
    }
   ],
   "source": [
    "y_train.shape"
   ]
  },
  {
   "cell_type": "code",
   "execution_count": 16,
   "id": "a02ab247",
   "metadata": {},
   "outputs": [
    {
     "data": {
      "text/plain": [
       "numpy.float32"
      ]
     },
     "execution_count": 16,
     "metadata": {},
     "output_type": "execute_result"
    }
   ],
   "source": [
    "type(X_train[0][0][0][0])"
   ]
  },
  {
   "cell_type": "code",
   "execution_count": 18,
   "id": "6d070929",
   "metadata": {},
   "outputs": [
    {
     "name": "stderr",
     "output_type": "stream",
     "text": [
      "c:\\Users\\HP\\Desktop\\project\\Hand_digits\\env\\lib\\site-packages\\keras\\src\\layers\\convolutional\\base_conv.py:113: UserWarning: Do not pass an `input_shape`/`input_dim` argument to a layer. When using Sequential models, prefer using an `Input(shape)` object as the first layer in the model instead.\n",
      "  super().__init__(activity_regularizer=activity_regularizer, **kwargs)\n"
     ]
    },
    {
     "name": "stdout",
     "output_type": "stream",
     "text": [
      "Epoch 1/3\n",
      "\u001b[1m4261/4261\u001b[0m \u001b[32m━━━━━━━━━━━━━━━━━━━━\u001b[0m\u001b[37m\u001b[0m \u001b[1m1243s\u001b[0m 291ms/step - accuracy: 0.9219 - loss: 0.4897 - val_accuracy: 0.9837 - val_loss: 0.1746\n",
      "Epoch 2/3\n",
      "\u001b[1m4261/4261\u001b[0m \u001b[32m━━━━━━━━━━━━━━━━━━━━\u001b[0m\u001b[37m\u001b[0m \u001b[1m1198s\u001b[0m 281ms/step - accuracy: 0.9812 - loss: 0.1645 - val_accuracy: 0.9840 - val_loss: 0.1329\n",
      "Epoch 3/3\n",
      "\u001b[1m4261/4261\u001b[0m \u001b[32m━━━━━━━━━━━━━━━━━━━━\u001b[0m\u001b[37m\u001b[0m \u001b[1m1186s\u001b[0m 278ms/step - accuracy: 0.9845 - loss: 0.1360 - val_accuracy: 0.9894 - val_loss: 0.1066\n"
     ]
    }
   ],
   "source": [
    "model = keras.Sequential([\n",
    "    Conv2D(32, (3,3), activation='relu', input_shape=(128,128,1) ,padding='same'),\n",
    "    MaxPooling2D((2,2)),\n",
    "    Conv2D(64, (3,3), activation='relu'),\n",
    "    MaxPooling2D((2,2)),\n",
    "    Conv2D(128, (3,3), activation='relu'),\n",
    "    MaxPooling2D((2,2)),\n",
    "    Flatten(),\n",
    "\n",
    "    Dense(units=128, activation='relu', kernel_regularizer=keras.regularizers.l2(0.02)),\n",
    "    Dense(units=10, activation='softmax')\n",
    "])\n",
    "\n",
    "model.compile(optimizer='Adam', loss='sparse_categorical_crossentropy', metrics=['accuracy'])\n",
    "\n",
    "history = model.fit(X_train, y_train, epochs=3, validation_split=0.2)"
   ]
  },
  {
   "cell_type": "code",
   "execution_count": 18,
   "id": "32ff8de0",
   "metadata": {},
   "outputs": [],
   "source": [
    "# loading model that is trained above\n",
    "model = keras.models.load_model(r'../Models/digits_classifier.keras')"
   ]
  },
  {
   "cell_type": "code",
   "execution_count": 22,
   "id": "8495e3d0",
   "metadata": {},
   "outputs": [
    {
     "name": "stdout",
     "output_type": "stream",
     "text": [
      "\u001b[1m54/54\u001b[0m \u001b[32m━━━━━━━━━━━━━━━━━━━━\u001b[0m\u001b[37m\u001b[0m \u001b[1m3s\u001b[0m 51ms/step - accuracy: 0.9869 - loss: 0.1156\n",
      "loss = 11.51%\n",
      "accuracy = 98.72%\n"
     ]
    }
   ],
   "source": [
    "loss, accuracy = model.evaluate(X_test, y_test)\n",
    "print(f'loss = {(loss*100):.2f}%')\n",
    "print(f'accuracy = {(accuracy*100):.2f}%')"
   ]
  },
  {
   "cell_type": "code",
   "execution_count": null,
   "id": "0befc9b7",
   "metadata": {},
   "outputs": [
    {
     "ename": "NameError",
     "evalue": "name 'X_test' is not defined",
     "output_type": "error",
     "traceback": [
      "\u001b[1;31m---------------------------------------------------------------------------\u001b[0m",
      "\u001b[1;31mNameError\u001b[0m                                 Traceback (most recent call last)",
      "Cell \u001b[1;32mIn[19], line 1\u001b[0m\n\u001b[1;32m----> 1\u001b[0m y_pred \u001b[38;5;241m=\u001b[39m model\u001b[38;5;241m.\u001b[39mpredict(\u001b[43mX_test\u001b[49m[\u001b[38;5;241m0\u001b[39m])\n\u001b[0;32m      2\u001b[0m \u001b[38;5;66;03m# y_pred = np.array([int(i.argmax()) for i in y_pred])\u001b[39;00m\n\u001b[0;32m      3\u001b[0m \u001b[38;5;66;03m# print(classification_report(y_test ,y_pred))\u001b[39;00m\n",
      "\u001b[1;31mNameError\u001b[0m: name 'X_test' is not defined"
     ]
    }
   ],
   "source": [
    "y_pred = model.predict(X_test)\n",
    "y_pred = np.array([int(i.argmax()) for i in y_pred])\n",
    "print(classification_report(y_test ,y_pred))"
   ]
  },
  {
   "cell_type": "code",
   "execution_count": 84,
   "id": "e5d3d9d1",
   "metadata": {},
   "outputs": [
    {
     "data": {
      "image/png": "[encoded data removed]",
      "text/plain": [
       "<Figure size 640x480 with 1 Axes>"
      ]
     },
     "metadata": {},
     "output_type": "display_data"
    }
   ],
   "source": [
    "plt.plot(history.epoch, history.history['accuracy'], color='orange')\n",
    "plt.xlabel('Epochs')\n",
    "plt.ylabel('accuracy')\n",
    "plt.title('Model Learning Per Epoch')\n",
    "plt.show()"
   ]
  },
  {
   "cell_type": "code",
   "execution_count": 14,
   "id": "5afc5bb3",
   "metadata": {},
   "outputs": [
    {
     "data": {
      "image/png": "[encoded data removed]",
      "text/plain": [
       "<Figure size 1000x1000 with 19 Axes>"
      ]
     },
     "metadata": {},
     "output_type": "display_data"
    }
   ],
   "source": [
    "from glob import glob\n",
    "\n",
    "pp_imgs = glob(r'..\\New folder\\*')\n",
    "\n",
    "imgs = []\n",
    "for img in pp_imgs:\n",
    "    img =cv2.imread(img, cv2.IMREAD_GRAYSCALE)\n",
    "    # Binarize and invert (threshold + inversion)\n",
    "    # _, img = cv2.threshold(img, 128, 255, cv2.THRESH_BINARY_INV)\n",
    "    # img = np.invert(img)\n",
    "    img = cv2.resize(img, (128,128))\n",
    "    img = img.astype(np.float32)/255.0\n",
    "    img = np.expand_dims(img, axis=-1)\n",
    "    imgs.append(img)\n",
    "\n",
    "\n",
    "imgs = np.array(imgs)\n",
    "fig, axes = plt.subplots(1,len(imgs), figsize=(10,10))\n",
    "for i in range(len(imgs)):\n",
    "    axes[i].imshow(imgs[i], cmap='gray')\n",
    "    axes[i].axis('off')"
   ]
  },
  {
   "cell_type": "code",
   "execution_count": 15,
   "id": "c5328716",
   "metadata": {},
   "outputs": [
    {
     "data": {
      "text/plain": [
       "(19, 128, 128, 1)"
      ]
     },
     "execution_count": 15,
     "metadata": {},
     "output_type": "execute_result"
    }
   ],
   "source": [
    "imgs.shape"
   ]
  },
  {
   "cell_type": "code",
   "execution_count": 16,
   "id": "daf4cdf8",
   "metadata": {},
   "outputs": [
    {
     "data": {
      "text/plain": [
       "numpy.float32"
      ]
     },
     "execution_count": 16,
     "metadata": {},
     "output_type": "execute_result"
    }
   ],
   "source": [
    "type(imgs[0][0][0][0])"
   ]
  },
  {
   "cell_type": "code",
   "execution_count": 17,
   "id": "ea392bc8",
   "metadata": {},
   "outputs": [
    {
     "name": "stdout",
     "output_type": "stream",
     "text": [
      "\u001b[1m1/1\u001b[0m \u001b[32m━━━━━━━━━━━━━━━━━━━━\u001b[0m\u001b[37m\u001b[0m \u001b[1m0s\u001b[0m 171ms/step\n"
     ]
    },
    {
     "data": {
      "text/plain": [
       "[9, 0, 0, 1, 6, 8, 2, 3, 3, 4, 4, 5, 5, 6, 6, 7, 7, 8, 8]"
      ]
     },
     "execution_count": 17,
     "metadata": {},
     "output_type": "execute_result"
    }
   ],
   "source": [
    "[int(i.argmax()) for i in model.predict(imgs)]"
   ]
  },
  {
   "cell_type": "code",
   "execution_count": null,
   "id": "bab33f80",
   "metadata": {},
   "outputs": [],
   "source": [
    "## Model saved\n",
    "model.save(r'../Models/digits_classifier.keras')"
   ]
  },
  {
   "cell_type": "code",
   "execution_count": 21,
   "id": "3329cf20",
   "metadata": {},
   "outputs": [],
   "source": [
    "## load model\n",
    "model = keras.models.load_model(r'../Models/digits_classifier.keras')"
   ]
  },
  {
   "cell_type": "code",
   "execution_count": 33,
   "id": "d6da51ff",
   "metadata": {},
   "outputs": [],
   "source": [
    "img = cv2.imread(r'C:\\Users\\HP\\Desktop\\project\\Hand_digits\\New folder\\hsf_0_00012.png', \n",
    "                 cv2.IMREAD_GRAYSCALE)"
   ]
  },
  {
   "cell_type": "code",
   "execution_count": 34,
   "id": "3eef0116",
   "metadata": {},
   "outputs": [],
   "source": [
    "def preprocess(img:np.array):\n",
    "        img = cv2.resize(img, (128,128))\n",
    "        img = img.astype(np.float32)/255.0\n",
    "        img = np.expand_dims(img, axis=-1)\n",
    "        img = np.expand_dims(img, axis=0)\n",
    "        return img\n"
   ]
  },
  {
   "cell_type": "code",
   "execution_count": 35,
   "id": "ae09df76",
   "metadata": {},
   "outputs": [],
   "source": [
    "img = preprocess(img)"
   ]
  },
  {
   "cell_type": "code",
   "execution_count": 50,
   "id": "da17a183",
   "metadata": {},
   "outputs": [],
   "source": [
    "def predict(img)-> int | float:\n",
    "    expected_shape = (1,128,128,1)\n",
    "    if img.shape != expected_shape:\n",
    "        return 0, 0\n",
    "    all_scores = model.predict(img)\n",
    "    predicted_number = np.argmax(all_scores)\n",
    "    accuracy_score = all_scores[0][predicted_number]\n",
    "    return predicted_number, accuracy_score"
   ]
  },
  {
   "cell_type": "code",
   "execution_count": 51,
   "id": "f3d60398",
   "metadata": {},
   "outputs": [
    {
     "name": "stdout",
     "output_type": "stream",
     "text": [
      "\u001b[1m1/1\u001b[0m \u001b[32m━━━━━━━━━━━━━━━━━━━━\u001b[0m\u001b[37m\u001b[0m \u001b[1m0s\u001b[0m 98ms/step\n"
     ]
    },
    {
     "data": {
      "text/plain": [
       "(np.int64(0), np.float32(0.9999881))"
      ]
     },
     "execution_count": 51,
     "metadata": {},
     "output_type": "execute_result"
    }
   ],
   "source": [
    "predict(img)"
   ]
  },
  {
   "cell_type": "code",
   "execution_count": null,
   "id": "0590312d",
   "metadata": {},
   "outputs": [],
   "source": []
  }
 ],
 "metadata": {
  "kernelspec": {
   "display_name": "env",
   "language": "python",
   "name": "python3"
  },
  "language_info": {
   "codemirror_mode": {
    "name": "ipython",
    "version": 3
   },
   "file_extension": ".py",
   "mimetype": "text/x-python",
   "name": "python",
   "nbconvert_exporter": "python",
   "pygments_lexer": "ipython3",
   "version": "3.10.4"
  }
 },
 "nbformat": 4,
 "nbformat_minor": 5
}
